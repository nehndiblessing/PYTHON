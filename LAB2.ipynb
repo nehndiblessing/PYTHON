{
  "nbformat": 4,
  "nbformat_minor": 0,
  "metadata": {
    "colab": {
      "provenance": [],
      "authorship_tag": "ABX9TyP2VW2s0sExhlGJE+sJhpBI",
      "include_colab_link": true
    },
    "kernelspec": {
      "name": "python3",
      "display_name": "Python 3"
    },
    "language_info": {
      "name": "python"
    }
  },
  "cells": [
    {
      "cell_type": "markdown",
      "metadata": {
        "id": "view-in-github",
        "colab_type": "text"
      },
      "source": [
        "<a href=\"https://colab.research.google.com/github/nehndiblessing/PYTHON/blob/main/LAB2.ipynb\" target=\"_parent\"><img src=\"https://colab.research.google.com/assets/colab-badge.svg\" alt=\"Open In Colab\"/></a>"
      ]
    },
    {
      "cell_type": "code",
      "source": [
        "for i in range(1, 10):\n",
        "    if i == 5:\n",
        "        continue\n",
        "    print(i)\n"
      ],
      "metadata": {
        "colab": {
          "base_uri": "https://localhost:8080/"
        },
        "id": "sBbfK6IhHJ6n",
        "outputId": "1648c76b-989a-4139-e429-7eb5c62e6451"
      },
      "execution_count": null,
      "outputs": [
        {
          "output_type": "stream",
          "name": "stdout",
          "text": [
            "1\n",
            "2\n",
            "3\n",
            "4\n",
            "6\n",
            "7\n",
            "8\n",
            "9\n"
          ]
        }
      ]
    },
    {
      "cell_type": "code",
      "source": [
        "for i in range(1, 5):\n",
        "    if i == 3:\n",
        "        pass\n",
        "    else:\n",
        "        print(i)\n",
        "\n",
        "\n"
      ],
      "metadata": {
        "colab": {
          "base_uri": "https://localhost:8080/"
        },
        "id": "gIInQcazHc5u",
        "outputId": "fb74f0d6-d02e-43c4-c935-5fbe908eca9f"
      },
      "execution_count": null,
      "outputs": [
        {
          "output_type": "stream",
          "name": "stdout",
          "text": [
            "1\n",
            "2\n",
            "4\n"
          ]
        }
      ]
    },
    {
      "cell_type": "code",
      "source": [
        "def compare_numbers(a, b, c):\n",
        "    if a >= b and a >= c:\n",
        "        print(f\"The greatest number is {a}.\")\n",
        "    elif b >= a and b >= c:\n",
        "        print(f\"The greatest number is {b}.\")\n",
        "    else:\n",
        "        print(f\"The greatest number is {c}.\")\n",
        "\n",
        "\n",
        "compare_numbers(5, 9, 3)\n"
      ],
      "metadata": {
        "colab": {
          "base_uri": "https://localhost:8080/"
        },
        "id": "rxtqgg23OCNG",
        "outputId": "b7910c81-fbff-4341-896d-d34c975d4639"
      },
      "execution_count": null,
      "outputs": [
        {
          "output_type": "stream",
          "name": "stdout",
          "text": [
            "The greatest number is 9.\n"
          ]
        }
      ]
    },
    {
      "cell_type": "code",
      "source": [
        "names = [\"bless\",\"alem\",\"atangana\",\"alias\"]\n",
        "for x in names:\n",
        "    print(x)"
      ],
      "metadata": {
        "id": "4Uw1bl9fOJFQ",
        "colab": {
          "base_uri": "https://localhost:8080/"
        },
        "outputId": "c8f8ba89-6c11-4719-d2c2-6b5afd09a8c3"
      },
      "execution_count": null,
      "outputs": [
        {
          "output_type": "stream",
          "name": "stdout",
          "text": [
            "bless\n",
            "alem\n",
            "atangana\n",
            "alias\n"
          ]
        }
      ]
    },
    {
      "cell_type": "code",
      "source": [
        "for x in \"ndi blessing neh\":\n",
        "    print (x)"
      ],
      "metadata": {
        "colab": {
          "base_uri": "https://localhost:8080/"
        },
        "id": "8_d_7jygQQWA",
        "outputId": "1d156dec-b12a-4210-be89-fbf0ccf2135e"
      },
      "execution_count": null,
      "outputs": [
        {
          "output_type": "stream",
          "name": "stdout",
          "text": [
            "n\n",
            "d\n",
            "i\n",
            " \n",
            "b\n",
            "l\n",
            "e\n",
            "s\n",
            "s\n",
            "i\n",
            "n\n",
            "g\n",
            " \n",
            "n\n",
            "e\n",
            "h\n"
          ]
        }
      ]
    },
    {
      "cell_type": "code",
      "source": [
        "# Arithmetic Operators\n",
        "a = 10\n",
        "b = 3\n",
        "\n",
        "print(\"Addition:\", a + b)\n",
        "print(\"Subtraction:\", a - b)\n",
        "print(\"Multiplication:\", a * b)\n",
        "print(\"Division:\", a / b)\n",
        "print(\"Modulus:\", a % b)\n",
        "print(\"Exponentiation:\", a ** b)\n",
        "print(\"Floor Division:\", a // b)\n"
      ],
      "metadata": {
        "id": "MR6WINSPRa-T",
        "colab": {
          "base_uri": "https://localhost:8080/"
        },
        "outputId": "75bce5fc-e6cb-4df7-fde1-2e8924156dfb"
      },
      "execution_count": null,
      "outputs": [
        {
          "output_type": "stream",
          "name": "stdout",
          "text": [
            "Addition: 13\n",
            "Subtraction: 7\n",
            "Multiplication: 30\n",
            "Division: 3.3333333333333335\n",
            "Modulus: 1\n",
            "Exponentiation: 1000\n",
            "Floor Division: 3\n"
          ]
        }
      ]
    },
    {
      "cell_type": "code",
      "source": [
        "# Relational Operators\n",
        "a = 5\n",
        "b = 8\n",
        "\n",
        "print(\"a > b:\", a > b)\n",
        "print(\"a < b:\", a < b)\n",
        "print(\"a == b:\", a == b)\n",
        "print(\"a != b:\", a != b)\n",
        "print(\"a >= b:\", a >= b)\n",
        "print(\"a <= b:\", a <= b)\n"
      ],
      "metadata": {
        "colab": {
          "base_uri": "https://localhost:8080/"
        },
        "id": "gXYie4iJMVMP",
        "outputId": "f033bb44-b145-4a92-89ae-8a91c8891669"
      },
      "execution_count": null,
      "outputs": [
        {
          "output_type": "stream",
          "name": "stdout",
          "text": [
            "a > b: False\n",
            "a < b: True\n",
            "a == b: False\n",
            "a != b: True\n",
            "a >= b: False\n",
            "a <= b: True\n"
          ]
        }
      ]
    },
    {
      "cell_type": "code",
      "source": [
        "# Assignment Operators\n",
        "x = 5\n",
        "x += 3  # x = x + 3\n",
        "print(\"x after += 3:\", x)\n",
        "\n",
        "x *= 2  # x = x * 2\n",
        "print(\"x after *= 2:\", x)\n",
        "\n",
        "x -= 4  # x = x - 4\n",
        "print(\"x after -= 4:\", x)\n"
      ],
      "metadata": {
        "colab": {
          "base_uri": "https://localhost:8080/"
        },
        "id": "V1IzLTKAMbpD",
        "outputId": "b6ff8ac5-5898-4b06-a2c1-e5aca363900f"
      },
      "execution_count": null,
      "outputs": [
        {
          "output_type": "stream",
          "name": "stdout",
          "text": [
            "x after += 3: 8\n",
            "x after *= 2: 16\n",
            "x after -= 4: 12\n"
          ]
        }
      ]
    },
    {
      "cell_type": "code",
      "source": [
        "# Bitwise Operators\n",
        "a = 5     # 0101\n",
        "b = 3     # 0011\n",
        "\n",
        "print(\"a & b:\", a & b)  # AND\n",
        "print(\"a | b:\", a | b)  # OR\n",
        "print(\"a ^ b:\", a ^ b)  # XOR\n",
        "print(\"~a:\", ~a)        # NOT\n",
        "print(\"a << 1:\", a << 1)  # Left Shift\n",
        "print(\"a >> 1:\", a >> 1)  # Right Shift\n",
        "\n"
      ],
      "metadata": {
        "colab": {
          "base_uri": "https://localhost:8080/"
        },
        "id": "BsCwkCGMMijG",
        "outputId": "607ef9ed-ba3c-46ab-a882-a7c44bb353bb"
      },
      "execution_count": null,
      "outputs": [
        {
          "output_type": "stream",
          "name": "stdout",
          "text": [
            "a & b: 1\n",
            "a | b: 7\n",
            "a ^ b: 6\n",
            "~a: -6\n",
            "a << 1: 10\n",
            "a >> 1: 2\n"
          ]
        }
      ]
    },
    {
      "cell_type": "code",
      "source": [
        "# Ternary Operator\n",
        "age = 20\n",
        "result = \"Adult\" if age >= 18 else \"Minor\"\n",
        "print(\"You are:\", result)\n"
      ],
      "metadata": {
        "colab": {
          "base_uri": "https://localhost:8080/"
        },
        "id": "RfeI17iZMpWA",
        "outputId": "514a6cac-2d4c-460d-b9a1-056fda1a32f5"
      },
      "execution_count": null,
      "outputs": [
        {
          "output_type": "stream",
          "name": "stdout",
          "text": [
            "You are: Adult\n"
          ]
        }
      ]
    },
    {
      "cell_type": "code",
      "source": [
        "# Membership Operators\n",
        "colors = ['red', 'green', 'blue']\n",
        "\n",
        "print('green' in colors)    # True\n",
        "print('yellow' not in colors)  # True\n"
      ],
      "metadata": {
        "colab": {
          "base_uri": "https://localhost:8080/"
        },
        "id": "xJu5C6hgMpUJ",
        "outputId": "75b7f5df-0649-4b72-a7ef-c488ecfa0093"
      },
      "execution_count": null,
      "outputs": [
        {
          "output_type": "stream",
          "name": "stdout",
          "text": [
            "True\n",
            "True\n"
          ]
        }
      ]
    },
    {
      "cell_type": "code",
      "source": [
        "# Identity Operators\n",
        "a = [1, 2, 3]\n",
        "b = a\n",
        "c = [1, 2, 3]\n",
        "\n",
        "print(\"a is b:\", a is b)       # True (same object)\n",
        "print(\"a is c:\", a is c)       # False (different objects)\n",
        "print(\"a == c:\", a == c)       # True (same content)\n"
      ],
      "metadata": {
        "colab": {
          "base_uri": "https://localhost:8080/"
        },
        "id": "ooTzxzV3MqTE",
        "outputId": "8e91f8cb-97cc-4041-9d51-10cae8334afd"
      },
      "execution_count": null,
      "outputs": [
        {
          "output_type": "stream",
          "name": "stdout",
          "text": [
            "a is b: True\n",
            "a is c: False\n",
            "a == c: True\n"
          ]
        }
      ]
    },
    {
      "cell_type": "code",
      "source": [
        "# if statement\n",
        "number = 10\n",
        "\n",
        "if number > 0:\n",
        "    print(\"Number is positive\")\n"
      ],
      "metadata": {
        "colab": {
          "base_uri": "https://localhost:8080/"
        },
        "id": "V50uZq4zM6Hk",
        "outputId": "a1bec13e-dd96-4fed-b8bc-88759fad0fb9"
      },
      "execution_count": null,
      "outputs": [
        {
          "output_type": "stream",
          "name": "stdout",
          "text": [
            "Number is positive\n"
          ]
        }
      ]
    },
    {
      "cell_type": "code",
      "source": [
        "# if-else statement\n",
        "age = 16\n",
        "\n",
        "if age >= 18:\n",
        "    print(\"You can vote\")\n",
        "else:\n",
        "    print(\"You cannot vote\")\n"
      ],
      "metadata": {
        "colab": {
          "base_uri": "https://localhost:8080/"
        },
        "id": "_miCpdF1M55F",
        "outputId": "55b2fce3-e30a-4aaf-f813-91388a16dc60"
      },
      "execution_count": null,
      "outputs": [
        {
          "output_type": "stream",
          "name": "stdout",
          "text": [
            "You cannot vote\n"
          ]
        }
      ]
    },
    {
      "cell_type": "code",
      "source": [
        "# if-elif-else statement\n",
        "score = 75\n",
        "\n",
        "if score >= 90:\n",
        "    print(\"Grade: A\")\n",
        "elif score >= 70:\n",
        "    print(\"Grade: B\")\n",
        "else:\n",
        "    print(\"Grade: C or below\")\n"
      ],
      "metadata": {
        "colab": {
          "base_uri": "https://localhost:8080/"
        },
        "id": "HfLpbymnM5ni",
        "outputId": "c87e9dec-43cf-463d-91ac-1cd036bf53e8"
      },
      "execution_count": null,
      "outputs": [
        {
          "output_type": "stream",
          "name": "stdout",
          "text": [
            "Grade: B\n"
          ]
        }
      ]
    },
    {
      "cell_type": "code",
      "source": [
        "# for loop\n",
        "for i in range(5):\n",
        "    print(\"Counting:\", i)\n"
      ],
      "metadata": {
        "colab": {
          "base_uri": "https://localhost:8080/"
        },
        "id": "-MdtfB4oNHQH",
        "outputId": "afc98bef-5caf-45e1-c5f8-6812d7c6ae41"
      },
      "execution_count": null,
      "outputs": [
        {
          "output_type": "stream",
          "name": "stdout",
          "text": [
            "Counting: 0\n",
            "Counting: 1\n",
            "Counting: 2\n",
            "Counting: 3\n",
            "Counting: 4\n"
          ]
        }
      ]
    },
    {
      "cell_type": "code",
      "source": [
        "# while loop\n",
        "count = 0\n",
        "\n",
        "while count < 5:\n",
        "    print(\"Count is:\", count)\n",
        "    count += 1\n"
      ],
      "metadata": {
        "colab": {
          "base_uri": "https://localhost:8080/"
        },
        "id": "2XJn3XlZNHB8",
        "outputId": "6705b054-ab76-4f76-b161-af8f17b04223"
      },
      "execution_count": null,
      "outputs": [
        {
          "output_type": "stream",
          "name": "stdout",
          "text": [
            "Count is: 0\n",
            "Count is: 1\n",
            "Count is: 2\n",
            "Count is: 3\n",
            "Count is: 4\n"
          ]
        }
      ]
    }
  ]
}